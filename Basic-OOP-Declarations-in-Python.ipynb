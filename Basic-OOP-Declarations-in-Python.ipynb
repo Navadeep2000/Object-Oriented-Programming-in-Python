{
 "cells": [
  {
   "cell_type": "markdown",
   "id": "47e8d29e",
   "metadata": {},
   "source": [
    "# Object Oriented Programming in Python"
   ]
  },
  {
   "cell_type": "markdown",
   "id": "6ba615f4",
   "metadata": {},
   "source": [
    "## Classes and Objects:\n",
    "\n",
    "- Think of ***\"Class\"*** as some recipe to create objects. For example if you have some items like phones, laptops or refrigerators.. They belong to a class called \"*Items*\"\n",
    "\n",
    "- Their features like *name* of the item, *price* of the item or *quantity* of item are called ***\"Objects\"***"
   ]
  },
  {
   "cell_type": "markdown",
   "id": "ff42cbd4",
   "metadata": {},
   "source": [
    "### *Class and Object Declaration:*\n",
    "\n",
    "- For starters, class is declared similar to a function but with a keyword ***class***\n",
    "- Objects are declared by calling upon the class into an object variable.\n",
    "- Keep a note that **objects** are often termed as **Instance** as well and I will be using \"Instance\" instead of \"Object\" at some points in this explanation file as well."
   ]
  },
  {
   "cell_type": "markdown",
   "id": "dd60bb85",
   "metadata": {},
   "source": [
    "### Methods in OOP\n",
    "- When you hear a term called \"***Method***\" in Object Oriented Programming(OOP), it refers to a *function* that is inside of a *class*. For example, a method that can find total sum of the given item(Object) that belongs to the class Items can be defined.\n",
    "- Methods describe ***what objects can do***\n",
    "\n",
    "### Attributes\n",
    "- Attributes are the features of an object. For Example, an Item(Class) called Phone(Object) has a few attributes called *Name, Price and Quantity*\n",
    "- Attributes define the ***state of an object***"
   ]
  },
  {
   "cell_type": "code",
   "execution_count": 1,
   "id": "8b8b1629",
   "metadata": {},
   "outputs": [
    {
     "data": {
      "text/plain": [
       "2000"
      ]
     },
     "execution_count": 1,
     "metadata": {},
     "output_type": "execute_result"
    }
   ],
   "source": [
    "class Items: # Class declaration\n",
    "    def calculate_total_amount(self, a, b): # Method declaration\n",
    "        return a * b\n",
    "    pass\n",
    "\n",
    "item1 = Items() # Object declaration\n",
    "item1.name = 'Phone' # Attribute declaration\n",
    "item1.price = 1000\n",
    "item1.quantity = 2\n",
    "\n",
    "item1.calculate_total_amount(item1.price, item1.quantity)\n"
   ]
  },
  {
   "cell_type": "markdown",
   "id": "1e557d28",
   "metadata": {},
   "source": [
    "### *self* in Python\n",
    "- In object-oriented programming (OOP), self is a reference to the instance of the class itself. It is a common convention in Python (though you can technically use any variable name you want) to name this reference self.\n",
    "- Basically, when a method is declared 'self' is the parameter that is given in order to call the object itself.\n",
    "- In above code, when the last line is called, the method inputs the object itself as the first parameter as a conventional declaration."
   ]
  },
  {
   "cell_type": "markdown",
   "id": "6ec322cb",
   "metadata": {},
   "source": [
    "#### Constructor in Python\n",
    "- In Python, a constructor is a special method within a class that is automatically called when an object of that class is created. The constructor method is used to initialize the attributes or properties of the object. \n",
    "- The constructor method in Python is named __init__, and it always takes at least one argument, which is conventionally named self. \n",
    "- The self parameter refers to the instance of the class and is used to access and modify the instance's attributes."
   ]
  },
  {
   "cell_type": "code",
   "execution_count": 2,
   "id": "cf94118d",
   "metadata": {},
   "outputs": [
    {
     "data": {
      "text/plain": [
       "2000"
      ]
     },
     "execution_count": 2,
     "metadata": {},
     "output_type": "execute_result"
    }
   ],
   "source": [
    "class Items: # Class declaration\n",
    "    def __init__(self, name: str, price: float, quantity=0): # Contructor declaration\n",
    "        self.name = name\n",
    "        self.price = price\n",
    "        self.quantity = quantity\n",
    "        \n",
    "    def calculate_total_amount(self): \n",
    "        # Method declaration as attributes now brought into contructor\n",
    "        return self.price * self.quantity\n",
    "    pass\n",
    "\n",
    "item1 = Items(\"Phone\", 1000, 2)\n",
    "# Thanks to Constructor, we now can declare multiple instances in a single line unlike the previous case \n",
    "\n",
    "item1.calculate_total_amount()"
   ]
  },
  {
   "cell_type": "markdown",
   "id": "081e874b",
   "metadata": {},
   "source": [
    "#### ***ASSERT*** Statement in python\n",
    "Now for the above item's attributes, there maybe a chance that price may be declared negative by mistake. So to correct these type of errors, \"assert\" statements are used"
   ]
  },
  {
   "cell_type": "code",
   "execution_count": 3,
   "id": "0992de8a",
   "metadata": {},
   "outputs": [
    {
     "ename": "AssertionError",
     "evalue": "Declared Price -1000 is not valid as it is a negative value",
     "output_type": "error",
     "traceback": [
      "\u001b[1;31m---------------------------------------------------------------------------\u001b[0m",
      "\u001b[1;31mAssertionError\u001b[0m                            Traceback (most recent call last)",
      "Cell \u001b[1;32mIn[3], line 16\u001b[0m\n\u001b[0;32m     13\u001b[0m         \u001b[38;5;28;01mreturn\u001b[39;00m \u001b[38;5;28mself\u001b[39m\u001b[38;5;241m.\u001b[39mprice \u001b[38;5;241m*\u001b[39m \u001b[38;5;28mself\u001b[39m\u001b[38;5;241m.\u001b[39mquantity\n\u001b[0;32m     14\u001b[0m     \u001b[38;5;28;01mpass\u001b[39;00m\n\u001b[1;32m---> 16\u001b[0m item1 \u001b[38;5;241m=\u001b[39m \u001b[43mItems\u001b[49m\u001b[43m(\u001b[49m\u001b[38;5;124;43m\"\u001b[39;49m\u001b[38;5;124;43mPhone\u001b[39;49m\u001b[38;5;124;43m\"\u001b[39;49m\u001b[43m,\u001b[49m\u001b[43m \u001b[49m\u001b[38;5;241;43m-\u001b[39;49m\u001b[38;5;241;43m1000\u001b[39;49m\u001b[43m,\u001b[49m\u001b[43m \u001b[49m\u001b[38;5;241;43m2\u001b[39;49m\u001b[43m)\u001b[49m \u001b[38;5;66;03m# <---- This line now raises an AssertionError that price is not valid\u001b[39;00m\n\u001b[0;32m     18\u001b[0m item1\u001b[38;5;241m.\u001b[39mcalculate_total_amount()\n",
      "Cell \u001b[1;32mIn[3], line 4\u001b[0m, in \u001b[0;36mItems.__init__\u001b[1;34m(self, name, price, quantity)\u001b[0m\n\u001b[0;32m      2\u001b[0m \u001b[38;5;28;01mdef\u001b[39;00m \u001b[38;5;21m__init__\u001b[39m(\u001b[38;5;28mself\u001b[39m, name: \u001b[38;5;28mstr\u001b[39m, price: \u001b[38;5;28mfloat\u001b[39m, quantity\u001b[38;5;241m=\u001b[39m\u001b[38;5;241m0\u001b[39m): \u001b[38;5;66;03m# Contructor declaration\u001b[39;00m\n\u001b[0;32m      3\u001b[0m     \u001b[38;5;66;03m# assert statement declaration with a custom statement for understanding purposes at run time\u001b[39;00m\n\u001b[1;32m----> 4\u001b[0m     \u001b[38;5;28;01massert\u001b[39;00m price\u001b[38;5;241m>\u001b[39m\u001b[38;5;241m=\u001b[39m\u001b[38;5;241m0\u001b[39m, \u001b[38;5;124mf\u001b[39m\u001b[38;5;124m\"\u001b[39m\u001b[38;5;124mDeclared Price \u001b[39m\u001b[38;5;132;01m{\u001b[39;00mprice\u001b[38;5;132;01m}\u001b[39;00m\u001b[38;5;124m is not valid as it is a negative value\u001b[39m\u001b[38;5;124m\"\u001b[39m \n\u001b[0;32m      5\u001b[0m     \u001b[38;5;28;01massert\u001b[39;00m quantity\u001b[38;5;241m>\u001b[39m\u001b[38;5;241m=\u001b[39m\u001b[38;5;241m0\u001b[39m, \u001b[38;5;124mf\u001b[39m\u001b[38;5;124m\"\u001b[39m\u001b[38;5;124mDeclared Quantity \u001b[39m\u001b[38;5;132;01m{\u001b[39;00mquantity\u001b[38;5;132;01m}\u001b[39;00m\u001b[38;5;124m is not Valid\u001b[39m\u001b[38;5;124m\"\u001b[39m\n\u001b[0;32m      7\u001b[0m     \u001b[38;5;28mself\u001b[39m\u001b[38;5;241m.\u001b[39mname \u001b[38;5;241m=\u001b[39m name\n",
      "\u001b[1;31mAssertionError\u001b[0m: Declared Price -1000 is not valid as it is a negative value"
     ]
    }
   ],
   "source": [
    "class Items: # Class declaration\n",
    "    def __init__(self, name: str, price: float, quantity=0): # Contructor declaration\n",
    "        # assert statement declaration with a custom statement for understanding purposes at run time\n",
    "        assert price>=0, f\"Declared Price {price} is not valid as it is a negative value\" \n",
    "        assert quantity>=0, f\"Declared Quantity {quantity} is not Valid\"\n",
    "\n",
    "        self.name = name\n",
    "        self.price = price\n",
    "        self.quantity = quantity\n",
    "        \n",
    "    def calculate_total_amount(self): \n",
    "        # Method declaration as attributes now brought into contructor\n",
    "        return self.price * self.quantity\n",
    "    pass\n",
    "\n",
    "item1 = Items(\"Phone\", -1000, 2) # <---- This line now raises an AssertionError that price is not valid\n",
    "\n",
    "item1.calculate_total_amount()"
   ]
  },
  {
   "cell_type": "markdown",
   "id": "4607b3f4",
   "metadata": {},
   "source": [
    "### Multiple Instances Declaration"
   ]
  },
  {
   "cell_type": "code",
   "execution_count": 4,
   "id": "2aa81ac1",
   "metadata": {},
   "outputs": [
    {
     "name": "stdout",
     "output_type": "stream",
     "text": [
      "Total price of Phones = 2000\n",
      "Total price of Laptops = 40000\n",
      "Total price of Keyboards = 300\n"
     ]
    }
   ],
   "source": [
    "class Items: # Class declaration\n",
    "    def __init__(self, name: str, price: float, quantity=0): # Contructor declaration\n",
    "        # Assert Statement\n",
    "        assert price>=0, f\"Declared Price {price} is not valid as it is a negative value\" \n",
    "        assert quantity>=0, f\"Declared Quantity {quantity} is not Valid\"\n",
    "        \n",
    "        # Attributes declaration\n",
    "        self.name = name\n",
    "        self.price = price\n",
    "        self.quantity = quantity\n",
    "    \n",
    "    # Method declaration\n",
    "    def calculate_total_amount(self): \n",
    "        return self.price * self.quantity\n",
    "    pass\n",
    "\n",
    "item1 = Items(\"Phone\", 1000, 2) # Phone Instance(Object)\n",
    "item2 = Items(\"Laptop\", 20000, 2) # Laptop Instance\n",
    "item3 = Items(\"Keyboard\", 100, 3) # Keyboard Instance\n",
    "\n",
    "print(f\"Total price of {item1.name}s = {item1.calculate_total_amount()}\")\n",
    "print(f\"Total price of {item2.name}s = {item2.calculate_total_amount()}\")\n",
    "print(f\"Total price of {item3.name}s = {item3.calculate_total_amount()}\")\n"
   ]
  }
 ],
 "metadata": {
  "kernelspec": {
   "display_name": "Python 3 (ipykernel)",
   "language": "python",
   "name": "python3"
  },
  "language_info": {
   "codemirror_mode": {
    "name": "ipython",
    "version": 3
   },
   "file_extension": ".py",
   "mimetype": "text/x-python",
   "name": "python",
   "nbconvert_exporter": "python",
   "pygments_lexer": "ipython3",
   "version": "3.8.10"
  }
 },
 "nbformat": 4,
 "nbformat_minor": 5
}
